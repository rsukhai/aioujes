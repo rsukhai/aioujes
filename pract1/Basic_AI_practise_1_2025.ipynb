{
  "cells": [
    {
      "cell_type": "markdown",
      "metadata": {
        "id": "UfI7FZudfGwv"
      },
      "source": [
        "# I. NumPy."
      ]
    },
    {
      "cell_type": "markdown",
      "metadata": {
        "id": "fQcvdlwdimQb"
      },
      "source": [
        "**Оцінювання даної роботи буде ураховувати якість Вашого коду та текстових відповідей. При наявності ЛИШЕ коду , робота оцінюватися НЕ БУДЕ.**  \n",
        "\n",
        "**Оформлення текстових відповідей повинно проводитися в текстових комірках ноутбука з використанням синтаксису [LaTeX](https://en.wikibooks.org/wiki/LaTeX/Basics) для оформлення тексту та формул.**\n",
        "\n",
        "**Роботи ідентифіковані як ІДЕНТИЧНІ одразу отримують 0 балів.**\n",
        "\n",
        "**При реалізації завдань потрібно використовувати методи з бібліотеки numpy та pandas.**\n",
        "\n",
        "**Рішення з циклами будуть оцінені в 0 балів.**"
      ]
    },
    {
      "cell_type": "markdown",
      "metadata": {
        "id": "XmA3PWg8fJxn"
      },
      "source": [
        "0. Імпортувати numpy загальноприйнятим способом."
      ]
    },
    {
      "cell_type": "code",
      "execution_count": 2,
      "metadata": {
        "id": "JUli5tR8eTXG"
      },
      "outputs": [],
      "source": [
        "import numpy as np"
      ]
    },
    {
      "cell_type": "markdown",
      "metadata": {
        "id": "fppWPwoFjTrl"
      },
      "source": [
        "1. Визначити список з оцінками студента(ки) за семестр. Використовуючи його, створити одновимірний масив numpy."
      ]
    },
    {
      "cell_type": "code",
      "execution_count": 3,
      "metadata": {
        "id": "cuvs9lNAjVoB"
      },
      "outputs": [
        {
          "name": "stdout",
          "output_type": "stream",
          "text": [
            "Список оцінок: [1, 3, 2, 4, 1, 2, 5, 4, 5, 4, 3, 3, 2, 4, 1, 1]\n",
            "Масив NumPy: [1 3 2 4 1 2 5 4 5 4 3 3 2 4 1 1]\n"
          ]
        }
      ],
      "source": [
        "grades = [1,3,2,4,1,2,5,4,5,4,3,3,2,4,1,1]\n",
        "grades_array = np.array(grades)\n",
        "print(\"Список оцінок:\", grades)\n",
        "print(\"Масив NumPy:\", grades_array)"
      ]
    },
    {
      "cell_type": "markdown",
      "metadata": {
        "id": "OGeLtAwcjcMB"
      },
      "source": [
        "2. Визначити список зі списками, де кожен рядок списку формально означає магазин, а кожна колонка - певний продукт (батон, яйця першої категорії, молоко та ковбаса), а елементами на пересічі є ціни на ці продукти відповідно. Використовуючи цей список, створити матрицю (двовимірний масив) numpy."
      ]
    },
    {
      "cell_type": "code",
      "execution_count": 4,
      "metadata": {
        "id": "zJ9kEAv5jcVo"
      },
      "outputs": [
        {
          "name": "stdout",
          "output_type": "stream",
          "text": [
            "Список цін:\n",
            "[[10.5, 2.8, 25.0, 120.0], [11.0, 2.7, 26.0, 115.0], [10.8, 2.9, 24.5, 118.0], [10.7, 2.6, 25.5, 119.0]]\n",
            "\n",
            "Матриця NumPy:\n",
            "[[ 10.5   2.8  25.  120. ]\n",
            " [ 11.    2.7  26.  115. ]\n",
            " [ 10.8   2.9  24.5 118. ]\n",
            " [ 10.7   2.6  25.5 119. ]]\n"
          ]
        }
      ],
      "source": [
        "prices = [\n",
        "    [11, 2, 20, 300],  # Магазин 1\n",
        "    [12, 3, 22, 260],  # Магазин 2\n",
        "    [10, 4, 24, 290],  # Магазин 3\n",
        "    [10.5, 2, 25, 285]   # Магазин 4\n",
        "]\n",
        "\n",
        "# Створення двовимірного масиву NumPy\n",
        "prices_matrix = np.array(prices)\n",
        "\n",
        "# Виведення матриці\n",
        "print(\"Список цін:\")\n",
        "print(prices)\n",
        "print(\"\\nМатриця NumPy:\")\n",
        "print(prices_matrix)"
      ]
    },
    {
      "cell_type": "markdown",
      "metadata": {
        "id": "wK7wrEw2jcix"
      },
      "source": [
        "3. Отримайте тип даних значень з масивів завдань 2 та 3. Виведіть їх на екран."
      ]
    },
    {
      "cell_type": "code",
      "execution_count": 5,
      "metadata": {
        "id": "uDBL1x6vjcq9"
      },
      "outputs": [
        {
          "name": "stdout",
          "output_type": "stream",
          "text": [
            "Тип даних у масиві оцінок: int64\n",
            "Тип даних у матриці цін: float64\n"
          ]
        }
      ],
      "source": [
        "print(\"Тип даних у масиві оцінок:\", grades_array.dtype)\n",
        "print(\"Тип даних у матриці цін:\", prices_matrix.dtype)"
      ]
    },
    {
      "cell_type": "markdown",
      "metadata": {
        "id": "nNhAgsC3jcyp"
      },
      "source": [
        "4. Отримайте форми (кортеж з кількістю рядків та колонок) масивів завдань 2 та 3. Виведіть їх на екран."
      ]
    },
    {
      "cell_type": "code",
      "execution_count": 6,
      "metadata": {
        "id": "Fi5oXTI8jc4-"
      },
      "outputs": [
        {
          "name": "stdout",
          "output_type": "stream",
          "text": [
            "Форма масиву оцінок: (16,)\n",
            "Форма матриці цін: (4, 4)\n"
          ]
        }
      ],
      "source": [
        "print(\"Форма масиву оцінок:\", grades_array.shape)\n",
        "print(\"Форма матриці цін:\", prices_matrix.shape)"
      ]
    },
    {
      "cell_type": "markdown",
      "metadata": {
        "id": "bpY-N8QZjdW-"
      },
      "source": [
        "5. Створіть одновимірний масив за допомогою спеціальної функції numpy, який би відображав динаміку стабільно зростаючого (з рівними проміжками) прибутку з продажів  за тиждень, де у перший день не було продажів, а в останній день тижня вдалося заробити 1000 грн 50 коп."
      ]
    },
    {
      "cell_type": "code",
      "execution_count": 8,
      "metadata": {
        "id": "r3LcjnUKjdeu"
      },
      "outputs": [
        {
          "name": "stdout",
          "output_type": "stream",
          "text": [
            "Масив прибутку за тиждень: [   0.    166.75  333.5   500.25  667.    833.75 1000.5 ]\n",
            "\n"
          ]
        }
      ],
      "source": [
        "# Створення одновимірного масиву з рівними проміжками\n",
        "profit_array = np.linspace(0, 1000.5, num=7)\n",
        "\n",
        "# Виведення результату\n",
        "print(\"Масив прибутку за тиждень:\",profit_array)"
      ]
    },
    {
      "cell_type": "markdown",
      "metadata": {
        "id": "zQM0SY9jjebO"
      },
      "source": [
        "6. Створіть два масиви. Використовуючи їх, продемонструйте відмінність вертикального та горизонтального обʼєднання масивів."
      ]
    },
    {
      "cell_type": "code",
      "execution_count": 12,
      "metadata": {
        "id": "8uoi0_lxjeh-"
      },
      "outputs": [
        {
          "name": "stdout",
          "output_type": "stream",
          "text": [
            "[1 2 3 4 5 9 8 7 6 5]\n",
            "[[1 2 3 4 5]\n",
            " [9 8 7 6 5]]\n"
          ]
        }
      ],
      "source": [
        "array1 = [1,2,3,4,5]\n",
        "array2 = [9,8,7,6,5]\n",
        "\n",
        "horizontal = np.hstack((array1, array2))\n",
        "vertical = np.vstack((array1, array2)) # робить матрицю\n",
        "\n",
        "\n",
        "print(horizontal)\n",
        "print(vertical)"
      ]
    },
    {
      "cell_type": "markdown",
      "metadata": {
        "id": "Fwh5D1pDm3t7"
      },
      "source": [
        "7. Визначити функцію, яка приймає на вході масив і транспонує його. Скористайтесь методом reshape. І не забудьте почати з docstrings."
      ]
    },
    {
      "cell_type": "code",
      "execution_count": 19,
      "metadata": {
        "id": "FSWZq0mkm31Z"
      },
      "outputs": [
        {
          "name": "stdout",
          "output_type": "stream",
          "text": [
            "[[1 9]\n",
            " [2 8]\n",
            " [3 7]\n",
            " [4 6]\n",
            " [5 5]]\n"
          ]
        }
      ],
      "source": [
        "def transpose_array(arr):\n",
        "    \"\"\"\n",
        "    Транспонує заданий масив.\n",
        "    \n",
        "    Параметри:\n",
        "        arr (numpy.ndarray): Вхідний масив для транспонування.\n",
        "    \n",
        "    Повертає:\n",
        "        numpy.ndarray: Транспонований масив.\n",
        "    \"\"\"\n",
        "    return arr.transpose()\n",
        "\n",
        "\n",
        "arr = np.array([[1,2,3,4,5],[9,8,7,6,5]])\n",
        "trans = transpose_array(arr)\n",
        "print(trans)"
      ]
    },
    {
      "cell_type": "markdown",
      "metadata": {
        "id": "Nnxk8vqYm379"
      },
      "source": [
        "8. Створіть два масиви. Використовучи ці масиви, продемонструйте 1) операцію по-елементного додавання, 2) операцію по-елементного віднімання, 3) множення масиву на число, 4) операцію по-елементного множення, і 5) матричного множення."
      ]
    },
    {
      "cell_type": "code",
      "execution_count": 22,
      "metadata": {
        "id": "qO1rfvmVm4BI"
      },
      "outputs": [
        {
          "name": "stdout",
          "output_type": "stream",
          "text": [
            "[10 10 10 10 10] [-8 -6 -4 -2  0] [ 9 16 21 24 25] [0.11111111 0.25       0.42857143 0.66666667 1.        ]\n"
          ]
        }
      ],
      "source": [
        "array1 = [1,2,3,4,5]\n",
        "array2 = [9,8,7,6,5]\n",
        "add = np.add(array1, array2)\n",
        "subtract = np.subtract(array1, array2)\n",
        "multiply = np.multiply(array1, array2)\n",
        "divide = np.divide(array1, array2)\n",
        "print(add,subtract,multiply,divide)"
      ]
    },
    {
      "cell_type": "markdown",
      "metadata": {
        "id": "7aGdszTGuMCC"
      },
      "source": [
        "9. Створіть двовимірний масив (матрицю) та розрахуйте: 1) мінімальне число, 2) максимальне число, 3) суму чисел, 4) мінімальні числа для кожного рядка, 5) максимальні числа для кожного стовпчика."
      ]
    },
    {
      "cell_type": "code",
      "execution_count": 28,
      "metadata": {
        "id": "RL_39YdauMKS"
      },
      "outputs": [
        {
          "name": "stdout",
          "output_type": "stream",
          "text": [
            "0\n",
            "14\n",
            "70\n",
            "[ 0 10]\n",
            "[10 11 12 13 14]\n"
          ]
        }
      ],
      "source": [
        "matrix = [\n",
        "    [0,1,2,3,4],\n",
        "    [10,11,12,13,14]\n",
        "]\n",
        "arr = np.array(matrix)\n",
        "min_value = arr.min()\n",
        "max_value = arr.max()\n",
        "sum_value = arr.sum()\n",
        "min_per_row = arr.min(axis=1)        # Мінімальні числа для кожного рядка\n",
        "max_per_column = arr.max(axis=0)     # Максимальні числа для кожного стовпчика\n",
        "\n",
        "print(min_value)\n",
        "print(max_value)\n",
        "print(sum_value)\n",
        "print(min_per_row)\n",
        "print(max_per_column)"
      ]
    },
    {
      "cell_type": "markdown",
      "metadata": {
        "id": "c_hNdOpjHRFo"
      },
      "source": [
        "10. Створіть матрицю , де деякі елементи повторюються. Знайдіть унікальні значення елементів цієї матриці та їхні частоти."
      ]
    },
    {
      "cell_type": "code",
      "execution_count": 30,
      "metadata": {},
      "outputs": [
        {
          "name": "stdout",
          "output_type": "stream",
          "text": [
            "[0 2 3 4 5 6 8 9]\n",
            "[2 1 1 1 2 1 1 1]\n"
          ]
        }
      ],
      "source": [
        "matrix = [\n",
        "    [0,2,3,5,6],\n",
        "    [0,5,4,8,9]\n",
        "]\n",
        "arr = np.array(matrix)\n",
        "unique_values = np.unique(arr)\n",
        "unique_values, counts = np.unique(arr, return_counts=True)\n",
        "\n",
        "print(unique_values)\n",
        "print(counts)\n"
      ]
    },
    {
      "cell_type": "markdown",
      "metadata": {
        "id": "Usj7tyjnprEV"
      },
      "source": [
        "# II. Importing. Creating DF"
      ]
    },
    {
      "cell_type": "markdown",
      "metadata": {
        "id": "ePGNrYa6pxRY"
      },
      "source": [
        "0. Імпортувати бібліотеку pandas"
      ]
    },
    {
      "cell_type": "code",
      "execution_count": 2,
      "metadata": {
        "id": "KIPDNBqQpvkI"
      },
      "outputs": [],
      "source": [
        "import pandas as pd"
      ]
    },
    {
      "cell_type": "markdown",
      "metadata": {
        "id": "8g9-hgi5qWJv"
      },
      "source": [
        "11. Створити тестовий датафрейм зі списку, що містить записи пацієнтів про їхні прізвища, імена, дату народження, масу тіла та наявність медичного страхування. Одне зі значень зробить пустим. Ознайомтесь з типом кожної колонки."
      ]
    },
    {
      "cell_type": "code",
      "execution_count": 32,
      "metadata": {
        "id": "9ioPRVvxqcQ7"
      },
      "outputs": [
        {
          "name": "stdout",
          "output_type": "stream",
          "text": [
            "Тестовий DataFrame:\n",
            "     Прізвище    Ім'я Дата народження  Маса тіла (кг)  Медичне страхування\n",
            "0       Сухай   Роман      2001-02-27              90                 True\n",
            "1  Фельдченко  Оксана      1985-07-10              65                False\n",
            "2       Бучко   Петро            None              56                 True\n",
            "3      Коваль   Ольга      1995-03-05              55                 True\n",
            "\n",
            "Типи даних у колонках:\n",
            "Прізвище               object\n",
            "Ім'я                   object\n",
            "Дата народження        object\n",
            "Маса тіла (кг)          int64\n",
            "Медичне страхування      bool\n",
            "dtype: object\n"
          ]
        }
      ],
      "source": [
        "data = [\n",
        "    {\"Прізвище\": \"Сухай\", \"Ім'я\": \"Роман\", \"Дата народження\": \"2001-02-27\", \"Маса тіла (кг)\": 90, \"Медичне страхування\": True},\n",
        "    {\"Прізвище\": \"Фельдченко\", \"Ім'я\": \"Оксана\", \"Дата народження\": \"1985-07-10\", \"Маса тіла (кг)\": 65, \"Медичне страхування\": False},\n",
        "    {\"Прізвище\": \"Бучко\", \"Ім'я\": \"Петро\", \"Дата народження\": None, \"Маса тіла (кг)\": 56, \"Медичне страхування\": True},\n",
        "    {\"Прізвище\": \"Коваль\", \"Ім'я\": \"Ольга\", \"Дата народження\": \"1995-03-05\", \"Маса тіла (кг)\": 55, \"Медичне страхування\": True},\n",
        "]\n",
        "\n",
        "df = pd.DataFrame(data)\n",
        "print(\"Тестовий DataFrame:\")\n",
        "print(df)\n",
        "print(\"\\nТипи даних у колонках:\")\n",
        "print(df.dtypes)"
      ]
    },
    {
      "cell_type": "markdown",
      "metadata": {
        "id": "b1SvVHjjqcv-"
      },
      "source": [
        "# III. Reading from file"
      ]
    },
    {
      "cell_type": "markdown",
      "metadata": {
        "id": "7HhZWLs_qhgq"
      },
      "source": [
        "12. Завантажити файл missile_attacks_daily.csv з [Kaggle](https://www.kaggle.com/datasets/piterfm/massive-missile-attacks-on-ukraine?select=missile_attacks_daily.csv). Ознайомитись з описом датасету. Додати файл до папки поточної сесії colab notebook на панелі ліворуч або на гугл диск (локально до проєкту, якщо працюєте у пайчармі). Зчитати датафрейм з файлу та вивести датафрейм на екран. Зверніть увагу на те, щоб всі колонки відповідали наведеним у описі типам даних."
      ]
    },
    {
      "cell_type": "code",
      "execution_count": 16,
      "metadata": {
        "id": "oQcB3kIqqg0h"
      },
      "outputs": [
        {
          "name": "stdout",
          "output_type": "stream",
          "text": [
            "            time_start          time_end               model  \\\n",
            "0     2025-01-18 20:00  2025-01-19 09:00      Shahed-136/131   \n",
            "1     2025-01-17 19:00  2025-01-18 08:00      Shahed-136/131   \n",
            "2     2025-01-16 19:00  2025-01-17 09:00      Shahed-136/131   \n",
            "3     2025-01-16 19:00  2025-01-17 09:00    Iskander-M/KN-23   \n",
            "4     2025-01-16 19:00  2025-01-17 09:00          Iskander-M   \n",
            "...                ...               ...                 ...   \n",
            "2039  2022-10-01 12:00  2022-10-01 12:00            Orlan-10   \n",
            "2040        2022-09-30        2022-09-30            Orlan-10   \n",
            "2041  2022-09-29 23:00  2022-09-29 23:59      Shahed-136/131   \n",
            "2042        2022-09-28        2022-09-28                X-59   \n",
            "2043        2022-09-28        2022-09-28  Reconnaissance UAV   \n",
            "\n",
            "                                           launch_place  \\\n",
            "0         Bryansk oblast and Oryol oblast and Millerovo   \n",
            "1     Primorsko-Akhtarsk and Bryansk oblast and Mill...   \n",
            "2     Primorsko-Akhtarsk and Kursk oblast and Bryans...   \n",
            "3                    Bryansk oblast and Voronezh oblast   \n",
            "4                                         Rostov oblast   \n",
            "...                                                 ...   \n",
            "2039                                                NaN   \n",
            "2040                                                NaN   \n",
            "2041                                                NaN   \n",
            "2042                                                NaN   \n",
            "2043                                                NaN   \n",
            "\n",
            "                                             target carrier  launched  \\\n",
            "0                                           Ukraine     NaN      61.0   \n",
            "1                                           Ukraine     NaN      39.0   \n",
            "2                                           Ukraine     NaN      50.0   \n",
            "3                                       Kyiv oblast     NaN       4.0   \n",
            "4                                           Ukraine     NaN       2.0   \n",
            "...                                             ...     ...       ...   \n",
            "2039                                        Ukraine     NaN       1.0   \n",
            "2040                                        Ukraine     NaN       3.0   \n",
            "2041               Odesa oblast and Mykolaiv oblast     NaN       7.0   \n",
            "2042  Dnipropetrovsk oblast and Zaporizhzhia oblast   Su-35       5.0   \n",
            "2043                                        Ukraine     NaN       3.0   \n",
            "\n",
            "      destroyed  not_reach_goal  cross_border_belarus  back_russia  \\\n",
            "0            43            15.0                   NaN          NaN   \n",
            "1            24            14.0                   NaN          NaN   \n",
            "2            33             9.0                   NaN          NaN   \n",
            "3             2             NaN                   NaN          NaN   \n",
            "4             0             NaN                   NaN          NaN   \n",
            "...         ...             ...                   ...          ...   \n",
            "2039          1             NaN                   NaN          NaN   \n",
            "2040          3             NaN                   NaN          NaN   \n",
            "2041          5             NaN                   NaN          NaN   \n",
            "2042          4             NaN                   NaN          NaN   \n",
            "2043          3             NaN                   NaN          NaN   \n",
            "\n",
            "      still_attacking                                  destroyed_details  \\\n",
            "0                 1.0  {'Mykolaiv oblast': NaN,    'Kyiv oblast': NaN...   \n",
            "1                 NaN  {'Kherson oblast': NaN, 'Khmelnytskyi oblast':...   \n",
            "2                 NaN  {'Odesa oblast and Mykolaiv oblast': 7, 'Khmel...   \n",
            "3                 NaN                                                NaN   \n",
            "4                 NaN                                                NaN   \n",
            "...               ...                                                ...   \n",
            "2039              NaN                                                NaN   \n",
            "2040              NaN                                                NaN   \n",
            "2041              NaN                                                NaN   \n",
            "2042              NaN                                                NaN   \n",
            "2043              NaN                                                NaN   \n",
            "\n",
            "     launched_details launch_place_details  \\\n",
            "0                 NaN                  NaN   \n",
            "1                 NaN                  NaN   \n",
            "2                 NaN                  NaN   \n",
            "3                 NaN                  NaN   \n",
            "4                 NaN                  NaN   \n",
            "...               ...                  ...   \n",
            "2039              NaN                  NaN   \n",
            "2040              NaN                  NaN   \n",
            "2041              NaN                  NaN   \n",
            "2042              NaN                  NaN   \n",
            "2043              NaN                  NaN   \n",
            "\n",
            "                                                 source  \n",
            "0     kpszsu/posts/pfbid0meYNAsX4voALE4SXunVpzKTwzrJ...  \n",
            "1     kpszsu/posts/pfbid0Rpzfu7u9ERu4o49Gm12eqSogKvZ...  \n",
            "2     kpszsu/posts/pfbid0Gvye9Wn2gj8RPiiGaTQFGRas9Yg...  \n",
            "3     kpszsu/posts/pfbid0Rpzfu7u9ERu4o49Gm12eqSogKvZ...  \n",
            "4     kpszsu/posts/pfbid0Gvye9Wn2gj8RPiiGaTQFGRas9Yg...  \n",
            "...                                                 ...  \n",
            "2039                           watch/?v=375517448001233  \n",
            "2040  kpszsu/posts/pfbid0nELeXY4BpHrezv54Lk3gWPZJmcC...  \n",
            "2041  kpszsu/posts/pfbid021aK2TqryAuB8gGrDYMTv3R8Xiu...  \n",
            "2042  kpszsu/posts/pfbid02sjn5m7kosAfsm5bSUzpPwbLuH3...  \n",
            "2043  kpszsu/posts/pfbid0grmBx6A5LbQ7PVTkSx7jTDgg4iU...  \n",
            "\n",
            "[2044 rows x 16 columns]\n"
          ]
        }
      ],
      "source": [
        "file_path = \"missile_attacks_daily.csv\" \n",
        "data =pd.read_csv(file_path)\n",
        "\n",
        "print(data)\n"
      ]
    },
    {
      "cell_type": "markdown",
      "metadata": {
        "id": "89zu0WNErzd2"
      },
      "source": [
        "# IV. Data understanding"
      ]
    },
    {
      "cell_type": "markdown",
      "metadata": {
        "id": "LJqrTfHr2d1G"
      },
      "source": [
        "13. Виведіть на екран перші 10 рядків зчитаного датафрейму."
      ]
    },
    {
      "cell_type": "code",
      "execution_count": 17,
      "metadata": {
        "id": "GdVE9WYwr1sD"
      },
      "outputs": [
        {
          "name": "stdout",
          "output_type": "stream",
          "text": [
            "         time_start          time_end             model  \\\n",
            "0  2025-01-18 20:00  2025-01-19 09:00    Shahed-136/131   \n",
            "1  2025-01-17 19:00  2025-01-18 08:00    Shahed-136/131   \n",
            "2  2025-01-16 19:00  2025-01-17 09:00    Shahed-136/131   \n",
            "3  2025-01-16 19:00  2025-01-17 09:00  Iskander-M/KN-23   \n",
            "4  2025-01-16 19:00  2025-01-17 09:00        Iskander-M   \n",
            "5  2025-01-15 20:00  2025-01-16 09:00    Shahed-136/131   \n",
            "6  2025-01-15 06:00  2025-01-15 08:00         X-59/X-69   \n",
            "7  2025-01-15 06:00  2025-01-15 08:00         X-22/X-32   \n",
            "8  2025-01-15 06:00  2025-01-15 08:00       X-101/X-555   \n",
            "9  2025-01-15 06:00  2025-01-15 08:00            Kalibr   \n",
            "\n",
            "                                        launch_place       target  carrier  \\\n",
            "0      Bryansk oblast and Oryol oblast and Millerovo      Ukraine      NaN   \n",
            "1  Primorsko-Akhtarsk and Bryansk oblast and Mill...      Ukraine      NaN   \n",
            "2  Primorsko-Akhtarsk and Kursk oblast and Bryans...      Ukraine      NaN   \n",
            "3                 Bryansk oblast and Voronezh oblast  Kyiv oblast      NaN   \n",
            "4                                      Rostov oblast      Ukraine      NaN   \n",
            "5  Primorsko-Akhtarsk and Bryansk oblast and Oryo...      Ukraine      NaN   \n",
            "6                                    Belgorod oblast      Ukraine      NaN   \n",
            "7                                        Tula oblast      Ukraine  Tu-22M3   \n",
            "8                                   Volgograd oblast      Ukraine  Tu-95MS   \n",
            "9                                          Black Sea      Ukraine     Navi   \n",
            "\n",
            "   launched  destroyed  not_reach_goal  cross_border_belarus  back_russia  \\\n",
            "0      61.0         43            15.0                   NaN          NaN   \n",
            "1      39.0         24            14.0                   NaN          NaN   \n",
            "2      50.0         33             9.0                   NaN          NaN   \n",
            "3       4.0          2             NaN                   NaN          NaN   \n",
            "4       2.0          0             NaN                   NaN          NaN   \n",
            "5      55.0         34            18.0                   NaN          NaN   \n",
            "6       4.0          4             NaN                   NaN          NaN   \n",
            "7       7.0          0             NaN                   NaN          NaN   \n",
            "8      27.0         23             NaN                   NaN          NaN   \n",
            "9       4.0          3             NaN                   NaN          NaN   \n",
            "\n",
            "   still_attacking                                  destroyed_details  \\\n",
            "0              1.0  {'Mykolaiv oblast': NaN,    'Kyiv oblast': NaN...   \n",
            "1              NaN  {'Kherson oblast': NaN, 'Khmelnytskyi oblast':...   \n",
            "2              NaN  {'Odesa oblast and Mykolaiv oblast': 7, 'Khmel...   \n",
            "3              NaN                                                NaN   \n",
            "4              NaN                                                NaN   \n",
            "5              NaN  {'Mykolaiv oblast': 5, 'Kyiv oblast': NaN, 'Su...   \n",
            "6              NaN                                                NaN   \n",
            "7              NaN                                                NaN   \n",
            "8              NaN                                       {'west': 20}   \n",
            "9              NaN                                       {'south': 1}   \n",
            "\n",
            "  launched_details launch_place_details  \\\n",
            "0              NaN                  NaN   \n",
            "1              NaN                  NaN   \n",
            "2              NaN                  NaN   \n",
            "3              NaN                  NaN   \n",
            "4              NaN                  NaN   \n",
            "5              NaN                  NaN   \n",
            "6              NaN                  NaN   \n",
            "7              NaN                  NaN   \n",
            "8              NaN                  NaN   \n",
            "9              NaN                  NaN   \n",
            "\n",
            "                                              source  \n",
            "0  kpszsu/posts/pfbid0meYNAsX4voALE4SXunVpzKTwzrJ...  \n",
            "1  kpszsu/posts/pfbid0Rpzfu7u9ERu4o49Gm12eqSogKvZ...  \n",
            "2  kpszsu/posts/pfbid0Gvye9Wn2gj8RPiiGaTQFGRas9Yg...  \n",
            "3  kpszsu/posts/pfbid0Rpzfu7u9ERu4o49Gm12eqSogKvZ...  \n",
            "4  kpszsu/posts/pfbid0Gvye9Wn2gj8RPiiGaTQFGRas9Yg...  \n",
            "5  kpszsu/posts/pfbid0tPwzQHvvr63PbehDshED2WNV2vm...  \n",
            "6  kpszsu/posts/pfbid0kLxxfDQRTeUt5wQT5eahJVkW1fb...  \n",
            "7  kpszsu/posts/pfbid0kLxxfDQRTeUt5wQT5eahJVkW1fb...  \n",
            "8  kpszsu/posts/pfbid0kLxxfDQRTeUt5wQT5eahJVkW1fb...  \n",
            "9  kpszsu/posts/pfbid0kLxxfDQRTeUt5wQT5eahJVkW1fb...  \n"
          ]
        }
      ],
      "source": [
        "print(data.head(10))"
      ]
    },
    {
      "cell_type": "markdown",
      "metadata": {
        "id": "1PtkLHWj2lq0"
      },
      "source": [
        "14. Отримайте інформацію про форму датафрейму."
      ]
    },
    {
      "cell_type": "code",
      "execution_count": 18,
      "metadata": {
        "id": "CBPTYTjV2mtG"
      },
      "outputs": [
        {
          "name": "stdout",
          "output_type": "stream",
          "text": [
            "(2044, 16)\n"
          ]
        }
      ],
      "source": [
        "print(data.shape)## лінії та колонки"
      ]
    },
    {
      "cell_type": "markdown",
      "metadata": {
        "id": "GDVcFC6F2yVz"
      },
      "source": [
        "15. Отримайте дані про кожну колонку з її назвою, типом даних та кількістю непустих значень."
      ]
    },
    {
      "cell_type": "code",
      "execution_count": 19,
      "metadata": {
        "id": "GTRgfKJ920bn"
      },
      "outputs": [
        {
          "name": "stdout",
          "output_type": "stream",
          "text": [
            "<class 'pandas.core.frame.DataFrame'>\n",
            "RangeIndex: 2044 entries, 0 to 2043\n",
            "Data columns (total 16 columns):\n",
            " #   Column                Non-Null Count  Dtype  \n",
            "---  ------                --------------  -----  \n",
            " 0   time_start            2044 non-null   object \n",
            " 1   time_end              2044 non-null   object \n",
            " 2   model                 2044 non-null   object \n",
            " 3   launch_place          1023 non-null   object \n",
            " 4   target                2016 non-null   object \n",
            " 5   carrier               225 non-null    object \n",
            " 6   launched              2041 non-null   float64\n",
            " 7   destroyed             2044 non-null   int64  \n",
            " 8   not_reach_goal        157 non-null    float64\n",
            " 9   cross_border_belarus  32 non-null     float64\n",
            " 10  back_russia           34 non-null     float64\n",
            " 11  still_attacking       28 non-null     float64\n",
            " 12  destroyed_details     294 non-null    object \n",
            " 13  launched_details      4 non-null      object \n",
            " 14  launch_place_details  4 non-null      object \n",
            " 15  source                2044 non-null   object \n",
            "dtypes: float64(5), int64(1), object(10)\n",
            "memory usage: 255.6+ KB\n",
            "None\n"
          ]
        }
      ],
      "source": [
        "print(data.info())\n",
        "## non-null не пусті значенння"
      ]
    },
    {
      "cell_type": "markdown",
      "metadata": {
        "id": "DEy-hgsw2452"
      },
      "source": [
        "16. Отримайте статистику для колонок числового типу."
      ]
    },
    {
      "cell_type": "code",
      "execution_count": 20,
      "metadata": {
        "id": "94mI2N9t267Q"
      },
      "outputs": [
        {
          "name": "stdout",
          "output_type": "stream",
          "text": [
            "Статистика для колонок числового типу:\n",
            "          launched    destroyed  not_reach_goal  cross_border_belarus  \\\n",
            "count  2041.000000  2044.000000      157.000000             32.000000   \n",
            "mean     10.609995     7.491683       20.828025              2.312500   \n",
            "std      21.041038    14.190972       19.877245              2.054696   \n",
            "min       1.000000     0.000000        1.000000              1.000000   \n",
            "25%       1.000000     1.000000        4.000000              1.000000   \n",
            "50%       2.000000     1.000000       16.000000              2.000000   \n",
            "75%       9.000000     7.000000       30.000000              2.000000   \n",
            "max     193.000000    99.000000      105.000000             10.000000   \n",
            "\n",
            "       back_russia  still_attacking  \n",
            "count    34.000000        28.000000  \n",
            "mean      2.000000         2.821429  \n",
            "std       1.154701         2.931989  \n",
            "min       1.000000         1.000000  \n",
            "25%       1.000000         1.000000  \n",
            "50%       2.000000         1.000000  \n",
            "75%       3.000000         4.000000  \n",
            "max       5.000000        10.000000  \n"
          ]
        }
      ],
      "source": [
        "print(\"Статистика для колонок числового типу:\")\n",
        "print(data.describe())\n",
        "\n",
        "##data.describe():\n",
        "## Виводить основні статистичні показники тільки для числових колонок (int64 і float64):\n",
        "## count: кількість непустих значень.\n",
        "## mean: середнє значення.\n",
        "## std: стандартне відхилення.\n",
        "## min: мінімальне значення.\n",
        "## 25%, 50%, 75%: квартилі.\n",
        "## max: максимальне значення."
      ]
    },
    {
      "cell_type": "markdown",
      "metadata": {
        "id": "n0MGJU2C2-iD"
      },
      "source": [
        "17. Отримати кількість унікальних значень у кожній колонці. Вивести на екран значення та кількість цих значень у колонці, яка має найменше унікальних значень."
      ]
    },
    {
      "cell_type": "code",
      "execution_count": 21,
      "metadata": {
        "id": "lQh_jdGe3BK5"
      },
      "outputs": [
        {
          "name": "stdout",
          "output_type": "stream",
          "text": [
            "Кількість унікальних значень у кожній колонці:\n",
            "time_start               864\n",
            "time_end                1015\n",
            "model                     61\n",
            "launch_place             135\n",
            "target                    97\n",
            "carrier                   58\n",
            "launched                 113\n",
            "destroyed                 81\n",
            "not_reach_goal            55\n",
            "cross_border_belarus       7\n",
            "back_russia                5\n",
            "still_attacking            8\n",
            "destroyed_details        290\n",
            "launched_details           4\n",
            "launch_place_details       4\n",
            "source                   960\n",
            "dtype: int64\n"
          ]
        }
      ],
      "source": [
        "unique_counts = data.nunique()\n",
        "\n",
        "print(\"Кількість унікальних значень у кожній колонці:\")\n",
        "print(unique_counts)"
      ]
    },
    {
      "cell_type": "code",
      "execution_count": 24,
      "metadata": {
        "id": "BlAeyE2q3tgd"
      },
      "outputs": [
        {
          "name": "stdout",
          "output_type": "stream",
          "text": [
            "\n",
            "Колонка з найменшою кількістю унікальних значень: launched_details\n",
            "Кількість унікальних значень: 4\n",
            "\n",
            "Значення та їх кількість у колонці 'launched_details':\n",
            "launched_details\n",
            "{'X-101/X-555': 50, 'Kalibr': 12}                     1\n",
            "{'X-101/X-555': 55, 'Kalibr': 24, 'Iskander-K': 7}    1\n",
            "{'X-101/X-555': 57, 'Kalibr': 28}                     1\n",
            "{'X-101/X-555': 77, 'Kalibr': 28, 'X-59/X-69': 10}    1\n",
            "Name: count, dtype: int64\n"
          ]
        }
      ],
      "source": [
        "column_with_min_unique = unique_counts.idxmin()\n",
        "min_unique_count = unique_counts.min()\n",
        "print(f\"\\nКолонка з найменшою кількістю унікальних значень: {column_with_min_unique}\")\n",
        "print(f\"Кількість унікальних значень: {min_unique_count}\")\n",
        "\n",
        "# Унікальні значення та їхні частоти в цій колонці\n",
        "unique_values = data[column_with_min_unique].value_counts()\n",
        "\n",
        "print(f\"\\nЗначення та їх кількість у колонці:\")\n",
        "print(unique_values)"
      ]
    },
    {
      "cell_type": "markdown",
      "metadata": {
        "id": "iVRkzUti3uC_"
      },
      "source": [
        "18. На основі отриманої інформації про датасет вище, опишіть по пунктах, що б ви виправили або на що б звернули увагу на кроці очищення даних і чому?"
      ]
    },
    {
      "cell_type": "markdown",
      "metadata": {
        "id": "9_Q-Fcuo30zY"
      },
      "source": [
        "**місце для текстової відповіді**\n",
        "\n",
        "1. Обробити пропущені дані, щоб дата сет був чистіший\n",
        "2. launched_details - розпарсити її, бо виглядає як словник в словнику\n",
        "3. Перевірити формат дат\n",
        "\n",
        "...\n",
        "\n",
        "\n"
      ]
    },
    {
      "cell_type": "markdown",
      "metadata": {
        "id": "Ue9ECz5-3_pq"
      },
      "source": [
        "# V. Data Cleaning"
      ]
    },
    {
      "cell_type": "markdown",
      "metadata": {
        "id": "ZtHUiSrV4CL-"
      },
      "source": [
        "19. Перетворити колонку launched у цілочислену (Int64). Перевірити, чи все пройшло, як очікувалось."
      ]
    },
    {
      "cell_type": "code",
      "execution_count": 27,
      "metadata": {
        "id": "AWyo_-Un3xqz"
      },
      "outputs": [
        {
          "name": "stdout",
          "output_type": "stream",
          "text": [
            "Колонка 'launched' успішно перетворена у Int64.\n",
            "\n",
            "Типи даних після перетворення:\n",
            "time_start               object\n",
            "time_end                 object\n",
            "model                    object\n",
            "launch_place             object\n",
            "target                   object\n",
            "carrier                  object\n",
            "launched                  Int64\n",
            "destroyed                 int64\n",
            "not_reach_goal          float64\n",
            "cross_border_belarus    float64\n",
            "back_russia             float64\n",
            "still_attacking         float64\n",
            "destroyed_details        object\n",
            "launched_details         object\n",
            "launch_place_details     object\n",
            "source                   object\n",
            "dtype: object\n",
            "\n",
            "Перші кілька рядків колонки 'launched':\n",
            "0    61\n",
            "1    39\n",
            "2    50\n",
            "3     4\n",
            "4     2\n",
            "Name: launched, dtype: Int64\n"
          ]
        }
      ],
      "source": [
        "# Перетворення колонки launched у цілочислену\n",
        "data['launched'] = pd.to_numeric(data['launched'], errors='coerce').astype('Int64')\n",
        "print(\"Колонка 'launched' успішно перетворена у Int64.\")\n",
        "\n",
        "# Перевірка результату\n",
        "print(\"\\nТипи даних після перетворення:\")\n",
        "print(data.dtypes)\n",
        "\n",
        "\n",
        "print(\"\\nПерші кілька рядків колонки 'launched':\")\n",
        "print(data['launched'].head())"
      ]
    },
    {
      "cell_type": "markdown",
      "metadata": {
        "id": "KsHhM4EM4O3d"
      },
      "source": [
        "20. Видалити колонки, де кількість непустих значень становить менше 30% від загальної кількості записів."
      ]
    },
    {
      "cell_type": "code",
      "execution_count": 55,
      "metadata": {
        "id": "Z1ZCclle4Vyk"
      },
      "outputs": [
        {
          "name": "stdout",
          "output_type": "stream",
          "text": [
            "Форма датасету до видалення колонок: (434, 17)\n",
            "Форма датасету після видалення колонок: (434, 9)\n",
            "\n",
            "Колонки, що залишились:\n",
            "Index(['time_start', 'time_end', 'model', 'launch_place', 'target', 'launched',\n",
            "       'destroyed', 'source', 'duration'],\n",
            "      dtype='object')\n"
          ]
        }
      ],
      "source": [
        "filter = 0.3 * len(data)\n",
        "filtered_data = data.loc[:, data.notnull().sum() >= filter]\n",
        "\n",
        "# Виведення результатів\n",
        "print(\"Форма датасету до видалення колонок:\", data.shape)\n",
        "print(\"Форма датасету після видалення колонок:\", filtered_data.shape)\n",
        "\n",
        "print(\"\\nКолонки, що залишились:\")\n",
        "print(filtered_data.columns)\n",
        "\n",
        "output_file = \"cleaned_data.csv\"  # Назва нового файлу\n",
        "filtered_data.to_csv(output_file, index=False)  # Зберігаємо без індексів\n",
        "\n"
      ]
    },
    {
      "cell_type": "markdown",
      "metadata": {
        "id": "p8cD0M0U4cNT"
      },
      "source": [
        "21. Очистити датафрейм від дублікатів (дублюючихся рядків) та записів, де атака продовжувалась відʼємну або нульову кількість часу (що фізично неможливо). Не забудьте оновити індекс. Скільки рядків було видалено? Як ви це перевірили у коді?"
      ]
    },
    {
      "cell_type": "code",
      "execution_count": 58,
      "metadata": {
        "id": "in3Fvn0I4l-I"
      },
      "outputs": [
        {
          "name": "stdout",
          "output_type": "stream",
          "text": [
            "Початкова кількість рядків: 434\n",
            "Кількість рядків після очищення: 433\n",
            "Кількість видалених рядків: 1\n"
          ]
        }
      ],
      "source": [
        "data = pd.read_csv(\"cleaned_data.csv\")\n",
        "\n",
        "# Початкова кількість рядків\n",
        "initial_rows = data.shape[0]\n",
        "\n",
        "# Перетворення колонок time_start і time_end у формат datetime\n",
        "data['time_start'] = pd.to_datetime(data['time_start'], errors='coerce')\n",
        "data['time_end'] = pd.to_datetime(data['time_end'], errors='coerce')\n",
        "\n",
        "# Розрахунок тривалості атаки (у хвилинах)\n",
        "data['duration'] = (data['time_end'] - data['time_start']).dt.total_seconds() / 60  # У хвилинах\n",
        "# Видалення рядків із від'ємною або нульовою тривалістю\n",
        "data = data[data['duration'] > 0]\n",
        "\n",
        "\n",
        "# Оновлення індекса\n",
        "data = data.reset_index(drop=True)\n",
        "\n",
        "# Кількість рядків після очищення\n",
        "final_rows = data.shape[0]\n",
        "\n",
        "# Розрахунок кількості видалених рядків\n",
        "rows_removed = initial_rows - final_rows\n",
        "\n",
        "# Результати\n",
        "print(f\"Початкова кількість рядків: {initial_rows}\")\n",
        "print(f\"Кількість рядків після очищення: {final_rows}\")\n",
        "print(f\"Кількість видалених рядків: {rows_removed}\")\n"
      ]
    },
    {
      "cell_type": "markdown",
      "metadata": {
        "id": "8zqL82Ie4nqY"
      },
      "source": [
        "Видалено було 0\n",
        "Проте коли я змінив в csv на неправильне значення, то видалило його\n"
      ]
    },
    {
      "cell_type": "markdown",
      "metadata": {
        "id": "6oZ7C_ry4uvb"
      },
      "source": [
        "22. Виведіть на екран всі рядки, де є хоч одне пропущене значення."
      ]
    },
    {
      "cell_type": "code",
      "execution_count": 57,
      "metadata": {
        "id": "BPmCTDtg4wVS"
      },
      "outputs": [
        {
          "name": "stdout",
          "output_type": "stream",
          "text": [
            "Рядки з пропущеними значеннями:\n",
            "              time_start             time_end                   model  \\\n",
            "25   2025-01-03 12:00:00  2025-01-03 20:00:00               X-59/X-69   \n",
            "27   2025-01-03 12:00:00  2025-01-03 20:00:00              Iskander-M   \n",
            "28   2025-01-03 12:00:00  2025-01-03 20:00:00                   C-300   \n",
            "45   2024-12-25 05:00:00  2024-12-25 10:00:00  X-101/X-555 and Kalibr   \n",
            "64   2024-12-14 19:00:00  2024-12-15 08:30:00                   C-300   \n",
            "..                   ...                  ...                     ...   \n",
            "429  2022-10-06 15:00:00  2022-10-06 20:00:00               Mohajer-6   \n",
            "430  2022-10-06 09:00:00  2022-10-06 11:30:00          Shahed-136/131   \n",
            "431  2022-10-06 09:00:00  2022-10-06 11:30:00               Mohajer-6   \n",
            "432  2022-10-02 00:00:00  2022-10-02 02:00:00          Shahed-136/131   \n",
            "433  2022-09-29 23:00:00  2022-09-29 23:59:00          Shahed-136/131   \n",
            "\n",
            "    launch_place                            target  launched  destroyed  \\\n",
            "25           NaN             Dnipropetrovsk oblast         3          3   \n",
            "27           NaN                  Chernihiv oblast         3          0   \n",
            "28           NaN                      Kursk oblast         5          0   \n",
            "45           NaN                           Ukraine        62         55   \n",
            "64           NaN                           Ukraine         1          0   \n",
            "..           ...                               ...       ...        ...   \n",
            "429          NaN                             south         1          1   \n",
            "430          NaN                   Mykolaiv oblast         2          2   \n",
            "431          NaN                   Mykolaiv oblast         1          1   \n",
            "432          NaN                   Mykolaiv oblast         7          5   \n",
            "433          NaN  Odesa oblast and Mykolaiv oblast         7          5   \n",
            "\n",
            "                                                source  duration  \n",
            "25   kpszsu/posts/pfbid02v1KGGb6TjgiYbVUoMCWPuAVZYn...     480.0  \n",
            "27   kpszsu/posts/pfbid02v1KGGb6TjgiYbVUoMCWPuAVZYn...     480.0  \n",
            "28   kpszsu/posts/pfbid02v1KGGb6TjgiYbVUoMCWPuAVZYn...     480.0  \n",
            "45   kpszsu/posts/pfbid02YK2sa7Z1E1QFpPfQVTMhRjj4QC...     300.0  \n",
            "64   kpszsu/posts/pfbid02HZKn1S4PTdUZGmN8LB12imWDN1...     810.0  \n",
            "..                                                 ...       ...  \n",
            "429  kpszsu/posts/pfbid0rxEnbpvxAg8d8J5NW9ABgghPzcb...     300.0  \n",
            "430  kpszsu/posts/pfbid02YPkepucHoDQbmGfZURk8ScqNyM...     150.0  \n",
            "431  kpszsu/posts/pfbid02YPkepucHoDQbmGfZURk8ScqNyM...     150.0  \n",
            "432  kpszsu/posts/pfbid021aK2TqryAuB8gGrDYMTv3R8Xiu...     120.0  \n",
            "433  kpszsu/posts/pfbid021aK2TqryAuB8gGrDYMTv3R8Xiu...      59.0  \n",
            "\n",
            "[120 rows x 9 columns]\n"
          ]
        }
      ],
      "source": [
        "data = pd.read_csv(\"cleaned_data.csv\")\n",
        "\n",
        "# Фільтрація рядків із хоча б одним пропущеним значенням\n",
        "rows_with_missing_values = data[data.isnull().any(axis=1)]\n",
        "\n",
        "# Виведення на екран\n",
        "print(\"Рядки з пропущеними значеннями:\")\n",
        "print(rows_with_missing_values)\n",
        "\n",
        "\n",
        "# # Знаходимо рядки без пропущених значень\n",
        "# rows_without_missing_values = filtered_data[filtered_data.notnull().all(axis=1)]\n",
        "\n",
        "# # Виведення рядків без пропущених значень\n",
        "# print(\"Рядки без пропущених значень:\")\n",
        "# print(rows_without_missing_values)\n",
        "\n",
        "# # Кількість таких рядків\n",
        "# print(f\"Кількість рядків без пропущених значень: {len(rows_without_missing_values)}\")"
      ]
    }
  ],
  "metadata": {
    "colab": {
      "collapsed_sections": [
        "dwSyU2AjXwc-"
      ],
      "provenance": []
    },
    "kernelspec": {
      "display_name": "Python 3",
      "name": "python3"
    },
    "language_info": {
      "codemirror_mode": {
        "name": "ipython",
        "version": 3
      },
      "file_extension": ".py",
      "mimetype": "text/x-python",
      "name": "python",
      "nbconvert_exporter": "python",
      "pygments_lexer": "ipython3",
      "version": "3.13.0"
    }
  },
  "nbformat": 4,
  "nbformat_minor": 0
}
